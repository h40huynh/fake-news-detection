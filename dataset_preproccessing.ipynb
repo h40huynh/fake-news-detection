{
  "nbformat": 4,
  "nbformat_minor": 0,
  "metadata": {
    "colab": {
      "name": "Dataset-preproccessing.ipynb",
      "provenance": [],
      "collapsed_sections": [],
      "authorship_tag": "ABX9TyO767HvYxxs526HyPaB3IRw",
      "include_colab_link": true
    },
    "kernelspec": {
      "name": "python3",
      "display_name": "Python 3"
    },
    "accelerator": "TPU"
  },
  "cells": [
    {
      "cell_type": "markdown",
      "metadata": {
        "id": "view-in-github",
        "colab_type": "text"
      },
      "source": [
        "<a href=\"https://colab.research.google.com/github/h40huynh/fake-news-detection/blob/master/dataset_preproccessing.ipynb\" target=\"_parent\"><img src=\"https://colab.research.google.com/assets/colab-badge.svg\" alt=\"Open In Colab\"/></a>"
      ]
    },
    {
      "cell_type": "code",
      "metadata": {
        "id": "KgxAD03-ifFx",
        "colab_type": "code",
        "colab": {
          "base_uri": "https://localhost:8080/",
          "height": 105
        },
        "outputId": "c8107c38-10d3-4251-d702-afcdd4fe3eb6"
      },
      "source": [
        "%%capture\n",
        "import os\n",
        "\n",
        "import pandas as pd\n",
        "import numpy as np\n",
        "\n",
        "from matplotlib import style, pyplot as plt\n",
        "import seaborn\n",
        "style.use('seaborn')\n",
        "\n",
        "from gensim.models import KeyedVectors\n",
        "\n",
        "import re\n",
        "from nltk.tokenize import RegexpTokenizer\n",
        "from imblearn.over_sampling import RandomOverSampler\n",
        "\n",
        "from google.colab import drive\n",
        "drive.mount(\"/content/drive\")"
      ],
      "execution_count": null,
      "outputs": [
        {
          "output_type": "stream",
          "text": [
            "Go to this URL in a browser: https://accounts.google.com/o/oauth2/auth?client_id=947318989803-6bn6qk8qdgf4n4g3pfee6491hc0brc4i.apps.googleusercontent.com&redirect_uri=urn%3aietf%3awg%3aoauth%3a2.0%3aoob&response_type=code&scope=email%20https%3a%2f%2fwww.googleapis.com%2fauth%2fdocs.test%20https%3a%2f%2fwww.googleapis.com%2fauth%2fdrive%20https%3a%2f%2fwww.googleapis.com%2fauth%2fdrive.photos.readonly%20https%3a%2f%2fwww.googleapis.com%2fauth%2fpeopleapi.readonly\n",
            "\n",
            "Enter your authorization code:\n",
            "··········\n"
          ],
          "name": "stdout"
        }
      ]
    },
    {
      "cell_type": "code",
      "metadata": {
        "id": "wnqvTfZNitSx",
        "colab_type": "code",
        "colab": {}
      },
      "source": [
        "PATH_DATASET = \"drive/My Drive/ColabNotebooks/VietnameseFakeNews/CSV/final2.csv\"\n",
        "PATH_EMBEDDING = \"drive/My Drive/ColabNotebooks/VietnameseFakeNews/Models/cc.vi.300.vec.gz\"\n",
        "PATH_NEW = \"drive/My Drive/ColabNotebooks/VietnameseFakeNews/Models/preproccess.pickle\""
      ],
      "execution_count": null,
      "outputs": []
    },
    {
      "cell_type": "markdown",
      "metadata": {
        "id": "RCVACMwSjcDr",
        "colab_type": "text"
      },
      "source": [
        "Khai báo các hàm cần thiết:\n",
        "\n",
        "\n",
        "*   clean_text: thực hiện loại bỏ url và các ký tự đặc biệt, sau đó token hóa đoạn text.\n",
        "*   pad_array: thêm 0 vào các vector để có được độ dài là giống nhau.\n",
        "\n"
      ]
    },
    {
      "cell_type": "code",
      "metadata": {
        "id": "FGmc9J6VjYJ-",
        "colab_type": "code",
        "colab": {}
      },
      "source": [
        "def clean_text(text):\n",
        "    # Remove URLs\n",
        "    text = re.sub(r\"http\\S+\", \"\", text)\n",
        "    # Tokenize\n",
        "    tokenizer = RegexpTokenizer('\\w+|\\$[\\d\\.]+|\\S+')\n",
        "    tokens = tokenizer.tokenize(text)\n",
        "    # Remove non alphanumerica characters\n",
        "    words = [word for word in tokens if word.isalpha()]    \n",
        "    return words\n",
        "\n",
        "def pad_array(array, token_len):\n",
        "    diff_token = token_len - len(array)\n",
        "    if(diff_token < 0):\n",
        "        array = array[:token_len] # Truncate\n",
        "    else:\n",
        "        # Pad\n",
        "        array += [0]*diff_token # Pad\n",
        "        \n",
        "    return array\n",
        "\n",
        "def max_token(df, col):\n",
        "    tokens_numbers = df.apply(lambda row: len(row[col]), axis = 1)\n",
        "    max_tokens = np.mean(tokens_numbers) + 2 * np.std(tokens_numbers)\n",
        "    return int(max_tokens)"
      ],
      "execution_count": null,
      "outputs": []
    },
    {
      "cell_type": "markdown",
      "metadata": {
        "id": "Jf-8o6nujM6A",
        "colab_type": "text"
      },
      "source": [
        "Load dataset lên"
      ]
    },
    {
      "cell_type": "code",
      "metadata": {
        "id": "2cQh7IhojKAo",
        "colab_type": "code",
        "colab": {
          "base_uri": "https://localhost:8080/",
          "height": 204
        },
        "outputId": "5c2d86da-863b-49e5-d324-1d93cdbbcedb"
      },
      "source": [
        "dataset = pd.read_csv(PATH_DATASET)\n",
        "dataset.head()"
      ],
      "execution_count": null,
      "outputs": [
        {
          "output_type": "execute_result",
          "data": {
            "text/html": [
              "<div>\n",
              "<style scoped>\n",
              "    .dataframe tbody tr th:only-of-type {\n",
              "        vertical-align: middle;\n",
              "    }\n",
              "\n",
              "    .dataframe tbody tr th {\n",
              "        vertical-align: top;\n",
              "    }\n",
              "\n",
              "    .dataframe thead th {\n",
              "        text-align: right;\n",
              "    }\n",
              "</style>\n",
              "<table border=\"1\" class=\"dataframe\">\n",
              "  <thead>\n",
              "    <tr style=\"text-align: right;\">\n",
              "      <th></th>\n",
              "      <th>Unnamed: 0</th>\n",
              "      <th>title</th>\n",
              "      <th>text</th>\n",
              "      <th>label</th>\n",
              "    </tr>\n",
              "  </thead>\n",
              "  <tbody>\n",
              "    <tr>\n",
              "      <th>0</th>\n",
              "      <td>0.0</td>\n",
              "      <td>V.I.Lê-nin - Nhà tư tưởng vĩ đại, lãnh tụ thiê...</td>\n",
              "      <td>(Chinhphu.vn) - Nhân kỷ niệm 150 năm ngày sinh...</td>\n",
              "      <td>1</td>\n",
              "    </tr>\n",
              "    <tr>\n",
              "      <th>1</th>\n",
              "      <td>1.0</td>\n",
              "      <td>Phó Thủ tướng chủ trì họp về phương án tổ chức...</td>\n",
              "      <td>(Chinhphu.vn) – Ngày 21/4, Phó Thủ tướng Vũ Đứ...</td>\n",
              "      <td>1</td>\n",
              "    </tr>\n",
              "    <tr>\n",
              "      <th>2</th>\n",
              "      <td>2.0</td>\n",
              "      <td>Sửa đổi toàn diện Luật Bảo vệ môi trường đáp ứ...</td>\n",
              "      <td>(Chinhphu.vn) - Đây là một trong những yêu cầu...</td>\n",
              "      <td>1</td>\n",
              "    </tr>\n",
              "    <tr>\n",
              "      <th>3</th>\n",
              "      <td>3.0</td>\n",
              "      <td>Bộ Quốc phòng hỗ trợ thiết bị, vật tư phòng dị...</td>\n",
              "      <td>(Chinhphu.vn) - Bộ Quốc phòng Việt Nam hỗ trợ ...</td>\n",
              "      <td>1</td>\n",
              "    </tr>\n",
              "    <tr>\n",
              "      <th>4</th>\n",
              "      <td>4.0</td>\n",
              "      <td>70 năm đoàn kết, đồng hành vì sự nghiệp cách mạng</td>\n",
              "      <td>(Chinhphu.vn) - Lịch sử phát triển 70 năm Hội ...</td>\n",
              "      <td>1</td>\n",
              "    </tr>\n",
              "  </tbody>\n",
              "</table>\n",
              "</div>"
            ],
            "text/plain": [
              "   Unnamed: 0  ... label\n",
              "0         0.0  ...     1\n",
              "1         1.0  ...     1\n",
              "2         2.0  ...     1\n",
              "3         3.0  ...     1\n",
              "4         4.0  ...     1\n",
              "\n",
              "[5 rows x 4 columns]"
            ]
          },
          "metadata": {
            "tags": []
          },
          "execution_count": 4
        }
      ]
    },
    {
      "cell_type": "markdown",
      "metadata": {
        "id": "KJPiZZFNlzU6",
        "colab_type": "text"
      },
      "source": [
        "Có thể thấy răng tập dataset bị mất cân bằng khi các nhãn real (1) quá nhiều."
      ]
    },
    {
      "cell_type": "code",
      "metadata": {
        "id": "qlCfGrXal7VD",
        "colab_type": "code",
        "colab": {
          "base_uri": "https://localhost:8080/",
          "height": 278
        },
        "outputId": "48096a70-424f-4206-ff39-716516f9a5e8"
      },
      "source": [
        "dataset['label'].value_counts().plot.bar()"
      ],
      "execution_count": null,
      "outputs": [
        {
          "output_type": "execute_result",
          "data": {
            "text/plain": [
              "<matplotlib.axes._subplots.AxesSubplot at 0x7fd239c118d0>"
            ]
          },
          "metadata": {
            "tags": []
          },
          "execution_count": 5
        },
        {
          "output_type": "display_data",
          "data": {
            "image/png": "[encoded data removed]",
            "text/plain": [
              "<Figure size 432x288 with 1 Axes>"
            ]
          },
          "metadata": {
            "tags": [],
            "needs_background": "light"
          }
        }
      ]
    },
    {
      "cell_type": "markdown",
      "metadata": {
        "id": "-v8hhOUPkV5e",
        "colab_type": "text"
      },
      "source": [
        "# Preproccessing (Tiền xử lý tập dữ liệu)"
      ]
    },
    {
      "cell_type": "markdown",
      "metadata": {
        "id": "7szdaOAYklKI",
        "colab_type": "text"
      },
      "source": [
        "Dùng hàm clean text đã định nghĩa ở trên lần lượt clean và token hóa title và text."
      ]
    },
    {
      "cell_type": "code",
      "metadata": {
        "id": "91biUY9QkKWt",
        "colab_type": "code",
        "colab": {}
      },
      "source": [
        "# Clean content\n",
        "dataset['text'] = dataset.apply(lambda row: clean_text(row['text']), axis=1)\n",
        "\n",
        "# Clean title\n",
        "dataset['title'] = dataset.apply(lambda row: clean_text(row['title']), axis=1)"
      ],
      "execution_count": null,
      "outputs": []
    },
    {
      "cell_type": "code",
      "metadata": {
        "id": "irEaZvVOked1",
        "colab_type": "code",
        "colab": {
          "base_uri": "https://localhost:8080/",
          "height": 204
        },
        "outputId": "69e981c4-9572-456e-fc1e-91a7509b6355"
      },
      "source": [
        "dataset.head()"
      ],
      "execution_count": null,
      "outputs": [
        {
          "output_type": "execute_result",
          "data": {
            "text/html": [
              "<div>\n",
              "<style scoped>\n",
              "    .dataframe tbody tr th:only-of-type {\n",
              "        vertical-align: middle;\n",
              "    }\n",
              "\n",
              "    .dataframe tbody tr th {\n",
              "        vertical-align: top;\n",
              "    }\n",
              "\n",
              "    .dataframe thead th {\n",
              "        text-align: right;\n",
              "    }\n",
              "</style>\n",
              "<table border=\"1\" class=\"dataframe\">\n",
              "  <thead>\n",
              "    <tr style=\"text-align: right;\">\n",
              "      <th></th>\n",
              "      <th>Unnamed: 0</th>\n",
              "      <th>title</th>\n",
              "      <th>text</th>\n",
              "      <th>label</th>\n",
              "    </tr>\n",
              "  </thead>\n",
              "  <tbody>\n",
              "    <tr>\n",
              "      <th>0</th>\n",
              "      <td>0.0</td>\n",
              "      <td>[V, Nhà, tư, tưởng, vĩ, đại, lãnh, tụ, thiên, ...</td>\n",
              "      <td>[Nhân, kỷ, niệm, năm, ngày, sinh, V, Lenin, Nh...</td>\n",
              "      <td>1</td>\n",
              "    </tr>\n",
              "    <tr>\n",
              "      <th>1</th>\n",
              "      <td>1.0</td>\n",
              "      <td>[Phó, Thủ, tướng, chủ, trì, họp, về, phương, á...</td>\n",
              "      <td>[Ngày, Phó, Thủ, tướng, Vũ, Đức, Đam, đã, họp,...</td>\n",
              "      <td>1</td>\n",
              "    </tr>\n",
              "    <tr>\n",
              "      <th>2</th>\n",
              "      <td>2.0</td>\n",
              "      <td>[Sửa, đổi, toàn, diện, Luật, Bảo, vệ, môi, trư...</td>\n",
              "      <td>[Đây, là, một, trong, những, yêu, cầu, được, Ủ...</td>\n",
              "      <td>1</td>\n",
              "    </tr>\n",
              "    <tr>\n",
              "      <th>3</th>\n",
              "      <td>3.0</td>\n",
              "      <td>[Bộ, Quốc, phòng, hỗ, trợ, thiết, bị, vật, tư,...</td>\n",
              "      <td>[Bộ, Quốc, phòng, Việt, Nam, hỗ, trợ, quân, độ...</td>\n",
              "      <td>1</td>\n",
              "    </tr>\n",
              "    <tr>\n",
              "      <th>4</th>\n",
              "      <td>4.0</td>\n",
              "      <td>[năm, đoàn, kết, đồng, hành, vì, sự, nghiệp, c...</td>\n",
              "      <td>[Lịch, sử, phát, triển, năm, Hội, Nhà, báo, Vi...</td>\n",
              "      <td>1</td>\n",
              "    </tr>\n",
              "  </tbody>\n",
              "</table>\n",
              "</div>"
            ],
            "text/plain": [
              "   Unnamed: 0  ... label\n",
              "0         0.0  ...     1\n",
              "1         1.0  ...     1\n",
              "2         2.0  ...     1\n",
              "3         3.0  ...     1\n",
              "4         4.0  ...     1\n",
              "\n",
              "[5 rows x 4 columns]"
            ]
          },
          "metadata": {
            "tags": []
          },
          "execution_count": 7
        }
      ]
    },
    {
      "cell_type": "markdown",
      "metadata": {
        "id": "v97ZJdgsoldw",
        "colab_type": "text"
      },
      "source": [
        "Tìm ra số lượng token tối đa của title và text."
      ]
    },
    {
      "cell_type": "code",
      "metadata": {
        "id": "5nYDyfSsot0v",
        "colab_type": "code",
        "colab": {
          "base_uri": "https://localhost:8080/",
          "height": 34
        },
        "outputId": "661e0a70-d9f0-43bb-f892-212213eaf697"
      },
      "source": [
        "MAX_LEN_TITLE = max_token(dataset, 'title')\n",
        "MAX_LEN_TEXT = max_token(dataset, 'text')\n",
        "print(MAX_LEN_TITLE, MAX_LEN_TEXT)"
      ],
      "execution_count": null,
      "outputs": [
        {
          "output_type": "stream",
          "text": [
            "17 1799\n"
          ],
          "name": "stdout"
        }
      ]
    },
    {
      "cell_type": "markdown",
      "metadata": {
        "id": "gS4PnJLjlE0l",
        "colab_type": "text"
      },
      "source": [
        "Load FastText để thực hiện vector hóa các token. Với mỗi từ sẽ ứng với 1 index trong từ điển."
      ]
    },
    {
      "cell_type": "code",
      "metadata": {
        "id": "Yv0lEUb7lTNw",
        "colab_type": "code",
        "colab": {
          "base_uri": "https://localhost:8080/",
          "height": 71
        },
        "outputId": "62479737-73dc-4406-ccba-c63d0fb85716"
      },
      "source": [
        "model = KeyedVectors.load_word2vec_format(PATH_EMBEDDING, binary=False, limit=50000)"
      ],
      "execution_count": null,
      "outputs": [
        {
          "output_type": "stream",
          "text": [
            "/usr/local/lib/python3.6/dist-packages/smart_open/smart_open_lib.py:254: UserWarning: This function is deprecated, use smart_open.open instead. See the migration notes for details: https://github.com/RaRe-Technologies/smart_open/blob/master/README.rst#migrating-to-the-new-open-function\n",
            "  'See the migration notes for details: %s' % _MIGRATION_NOTES_URL\n"
          ],
          "name": "stderr"
        }
      ]
    },
    {
      "cell_type": "markdown",
      "metadata": {
        "id": "4t356o_hnfVR",
        "colab_type": "text"
      },
      "source": [
        "Vector hóa dataset."
      ]
    },
    {
      "cell_type": "code",
      "metadata": {
        "id": "68KHf8selYve",
        "colab_type": "code",
        "colab": {}
      },
      "source": [
        "dataset['text'] = dataset.apply(lambda r: [model.vocab[x].index for x in r['text'] if x in model.vocab], axis=1)\n",
        "dataset['title'] = dataset.apply(lambda r: [model.vocab[x].index for x in r['title'] if x in model.vocab], axis=1)"
      ],
      "execution_count": null,
      "outputs": []
    },
    {
      "cell_type": "code",
      "metadata": {
        "id": "y3VGydaCndNo",
        "colab_type": "code",
        "colab": {
          "base_uri": "https://localhost:8080/",
          "height": 204
        },
        "outputId": "8eb1d5b4-4e01-4335-adf9-13037679ee85"
      },
      "source": [
        "dataset.head()"
      ],
      "execution_count": null,
      "outputs": [
        {
          "output_type": "execute_result",
          "data": {
            "text/html": [
              "<div>\n",
              "<style scoped>\n",
              "    .dataframe tbody tr th:only-of-type {\n",
              "        vertical-align: middle;\n",
              "    }\n",
              "\n",
              "    .dataframe tbody tr th {\n",
              "        vertical-align: top;\n",
              "    }\n",
              "\n",
              "    .dataframe thead th {\n",
              "        text-align: right;\n",
              "    }\n",
              "</style>\n",
              "<table border=\"1\" class=\"dataframe\">\n",
              "  <thead>\n",
              "    <tr style=\"text-align: right;\">\n",
              "      <th></th>\n",
              "      <th>Unnamed: 0</th>\n",
              "      <th>title</th>\n",
              "      <th>text</th>\n",
              "      <th>label</th>\n",
              "    </tr>\n",
              "  </thead>\n",
              "  <tbody>\n",
              "    <tr>\n",
              "      <th>0</th>\n",
              "      <td>0.0</td>\n",
              "      <td>[795, 774, 860, 1399, 3863, 1110, 2870, 3715, ...</td>\n",
              "      <td>[2836, 2828, 3646, 19, 47, 263, 795, 5531, 774...</td>\n",
              "      <td>1</td>\n",
              "    </tr>\n",
              "    <tr>\n",
              "      <th>1</th>\n",
              "      <td>1.0</td>\n",
              "      <td>[665, 11277, 748, 461, 4896, 887, 30, 920, 714...</td>\n",
              "      <td>[277, 665, 11277, 748, 3555, 369, 23529, 22, 8...</td>\n",
              "      <td>1</td>\n",
              "    </tr>\n",
              "    <tr>\n",
              "      <th>2</th>\n",
              "      <td>2.0</td>\n",
              "      <td>[2027, 292, 550, 1328, 1095, 4493, 3314, 855, ...</td>\n",
              "      <td>[335, 7, 14, 13, 24, 374, 553, 12, 578, 2822, ...</td>\n",
              "      <td>1</td>\n",
              "    </tr>\n",
              "    <tr>\n",
              "      <th>3</th>\n",
              "      <td>3.0</td>\n",
              "      <td>[239, 3374, 180, 9310, 2612, 3291, 52, 847, 86...</td>\n",
              "      <td>[239, 3374, 180, 318, 454, 9310, 2612, 271, 50...</td>\n",
              "      <td>1</td>\n",
              "    </tr>\n",
              "    <tr>\n",
              "      <th>4</th>\n",
              "      <td>4.0</td>\n",
              "      <td>[19, 768, 1146, 188, 1210, 109, 69, 2665, 108,...</td>\n",
              "      <td>[1821, 1344, 582, 3905, 19, 885, 774, 481, 318...</td>\n",
              "      <td>1</td>\n",
              "    </tr>\n",
              "  </tbody>\n",
              "</table>\n",
              "</div>"
            ],
            "text/plain": [
              "   Unnamed: 0  ... label\n",
              "0         0.0  ...     1\n",
              "1         1.0  ...     1\n",
              "2         2.0  ...     1\n",
              "3         3.0  ...     1\n",
              "4         4.0  ...     1\n",
              "\n",
              "[5 rows x 4 columns]"
            ]
          },
          "metadata": {
            "tags": []
          },
          "execution_count": 11
        }
      ]
    },
    {
      "cell_type": "markdown",
      "metadata": {
        "id": "Sq-fpgW4meQQ",
        "colab_type": "text"
      },
      "source": [
        "Để cân bằng lại tập dữ liệu, chúng ta cần generate thêm các dòng có nhãn fake (0) bằng RandomOverSampler của thư viện imblearn."
      ]
    },
    {
      "cell_type": "code",
      "metadata": {
        "id": "IzxxtFCOlcaG",
        "colab_type": "code",
        "colab": {
          "base_uri": "https://localhost:8080/",
          "height": 315
        },
        "outputId": "2eddae4a-bfee-4c61-f538-3bb8b511f98b"
      },
      "source": [
        "ros = RandomOverSampler()\n",
        "x_over, y_over = ros.fit_resample(dataset[['title', 'text']], dataset['label'])\n",
        "dataset = pd.DataFrame(data=x_over, columns=['title', 'text'])\n",
        "dataset['label'] = y_over\n",
        "dataset['label'].value_counts().plot.bar()\n",
        "\n",
        "del x_over, y_over"
      ],
      "execution_count": null,
      "outputs": [
        {
          "output_type": "stream",
          "text": [
            "/usr/local/lib/python3.6/dist-packages/sklearn/utils/deprecation.py:87: FutureWarning: Function safe_indexing is deprecated; safe_indexing is deprecated in version 0.22 and will be removed in version 0.24.\n",
            "  warnings.warn(msg, category=FutureWarning)\n"
          ],
          "name": "stderr"
        },
        {
          "output_type": "display_data",
          "data": {
            "image/png": "[encoded data removed]",
            "text/plain": [
              "<Figure size 432x288 with 1 Axes>"
            ]
          },
          "metadata": {
            "tags": [],
            "needs_background": "light"
          }
        }
      ]
    },
    {
      "cell_type": "markdown",
      "metadata": {
        "id": "Sv9Yj8qknnIk",
        "colab_type": "text"
      },
      "source": [
        "Padding dataset."
      ]
    },
    {
      "cell_type": "code",
      "metadata": {
        "id": "2NM-krPao0kq",
        "colab_type": "code",
        "colab": {}
      },
      "source": [
        "dataset['text'] = dataset.apply(lambda row: pad_array(row['text'], MAX_LEN_TEXT), axis=1)\n",
        "dataset['title'] = dataset.apply(lambda row: pad_array(row['title'], MAX_LEN_TITLE), axis=1)"
      ],
      "execution_count": null,
      "outputs": []
    },
    {
      "cell_type": "code",
      "metadata": {
        "id": "D_LtURyno7fE",
        "colab_type": "code",
        "colab": {
          "base_uri": "https://localhost:8080/",
          "height": 204
        },
        "outputId": "372d31f0-010b-4188-a461-6ffc48134dc0"
      },
      "source": [
        "dataset.head()"
      ],
      "execution_count": null,
      "outputs": [
        {
          "output_type": "execute_result",
          "data": {
            "text/html": [
              "<div>\n",
              "<style scoped>\n",
              "    .dataframe tbody tr th:only-of-type {\n",
              "        vertical-align: middle;\n",
              "    }\n",
              "\n",
              "    .dataframe tbody tr th {\n",
              "        vertical-align: top;\n",
              "    }\n",
              "\n",
              "    .dataframe thead th {\n",
              "        text-align: right;\n",
              "    }\n",
              "</style>\n",
              "<table border=\"1\" class=\"dataframe\">\n",
              "  <thead>\n",
              "    <tr style=\"text-align: right;\">\n",
              "      <th></th>\n",
              "      <th>title</th>\n",
              "      <th>text</th>\n",
              "      <th>label</th>\n",
              "    </tr>\n",
              "  </thead>\n",
              "  <tbody>\n",
              "    <tr>\n",
              "      <th>0</th>\n",
              "      <td>[795, 774, 860, 1399, 3863, 1110, 2870, 3715, ...</td>\n",
              "      <td>[2836, 2828, 3646, 19, 47, 263, 795, 5531, 774...</td>\n",
              "      <td>1</td>\n",
              "    </tr>\n",
              "    <tr>\n",
              "      <th>1</th>\n",
              "      <td>[665, 11277, 748, 461, 4896, 887, 30, 920, 714...</td>\n",
              "      <td>[277, 665, 11277, 748, 3555, 369, 23529, 22, 8...</td>\n",
              "      <td>1</td>\n",
              "    </tr>\n",
              "    <tr>\n",
              "      <th>2</th>\n",
              "      <td>[2027, 292, 550, 1328, 1095, 4493, 3314, 855, ...</td>\n",
              "      <td>[335, 7, 14, 13, 24, 374, 553, 12, 578, 2822, ...</td>\n",
              "      <td>1</td>\n",
              "    </tr>\n",
              "    <tr>\n",
              "      <th>3</th>\n",
              "      <td>[239, 3374, 180, 9310, 2612, 3291, 52, 847, 86...</td>\n",
              "      <td>[239, 3374, 180, 318, 454, 9310, 2612, 271, 50...</td>\n",
              "      <td>1</td>\n",
              "    </tr>\n",
              "    <tr>\n",
              "      <th>4</th>\n",
              "      <td>[19, 768, 1146, 188, 1210, 109, 69, 2665, 108,...</td>\n",
              "      <td>[1821, 1344, 582, 3905, 19, 885, 774, 481, 318...</td>\n",
              "      <td>1</td>\n",
              "    </tr>\n",
              "  </tbody>\n",
              "</table>\n",
              "</div>"
            ],
            "text/plain": [
              "                                               title  ... label\n",
              "0  [795, 774, 860, 1399, 3863, 1110, 2870, 3715, ...  ...     1\n",
              "1  [665, 11277, 748, 461, 4896, 887, 30, 920, 714...  ...     1\n",
              "2  [2027, 292, 550, 1328, 1095, 4493, 3314, 855, ...  ...     1\n",
              "3  [239, 3374, 180, 9310, 2612, 3291, 52, 847, 86...  ...     1\n",
              "4  [19, 768, 1146, 188, 1210, 109, 69, 2665, 108,...  ...     1\n",
              "\n",
              "[5 rows x 3 columns]"
            ]
          },
          "metadata": {
            "tags": []
          },
          "execution_count": 14
        }
      ]
    },
    {
      "cell_type": "code",
      "metadata": {
        "id": "sSACv7PhsYbn",
        "colab_type": "code",
        "colab": {}
      },
      "source": [
        "dataset.to_pickle(PATH_NEW)"
      ],
      "execution_count": null,
      "outputs": []
    }
  ]
}