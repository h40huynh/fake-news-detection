{
  "nbformat": 4,
  "nbformat_minor": 0,
  "metadata": {
    "colab": {
      "name": "Classify-LSTM.ipynb",
      "provenance": [],
      "collapsed_sections": [],
      "authorship_tag": "ABX9TyOpUb7xZSdAIEvU1TotvjhY",
      "include_colab_link": true
    },
    "kernelspec": {
      "name": "python3",
      "display_name": "Python 3"
    },
    "accelerator": "TPU"
  },
  "cells": [
    {
      "cell_type": "markdown",
      "metadata": {
        "id": "view-in-github",
        "colab_type": "text"
      },
      "source": [
        "<a href=\"https://colab.research.google.com/github/h40huynh/fake-news-detection/blob/master/Classify_LSTM.ipynb\" target=\"_parent\"><img src=\"https://colab.research.google.com/assets/colab-badge.svg\" alt=\"Open In Colab\"/></a>"
      ]
    },
    {
      "cell_type": "code",
      "metadata": {
        "id": "cks57WIEhwvK",
        "colab_type": "code",
        "colab": {}
      },
      "source": [
        "%%capture\n",
        "!pip install tensorflow==1.13.1"
      ],
      "execution_count": null,
      "outputs": []
    },
    {
      "cell_type": "code",
      "metadata": {
        "id": "KgxAD03-ifFx",
        "colab_type": "code",
        "colab": {
          "base_uri": "https://localhost:8080/",
          "height": 105
        },
        "outputId": "80f3bd15-a359-4009-e2e8-d21da6924b22"
      },
      "source": [
        "%%capture\n",
        "import os\n",
        "\n",
        "import pandas as pd\n",
        "import numpy as np\n",
        "\n",
        "from matplotlib import style, pyplot as plt\n",
        "import seaborn\n",
        "style.use('seaborn')\n",
        "\n",
        "from gensim.models import KeyedVectors\n",
        "\n",
        "import re\n",
        "from nltk.tokenize import RegexpTokenizer\n",
        "from imblearn.over_sampling import RandomOverSampler\n",
        "\n",
        "import tensorflow as tf\n",
        "from tensorflow import keras\n",
        "from numpy.random import seed\n",
        "from tensorflow.random import set_random_seed\n",
        "\n",
        "from sklearn import metrics\n",
        "from sklearn.model_selection import train_test_split\n",
        "from sklearn.metrics import accuracy_score, confusion_matrix, classification_report, recall_score, precision_score, f1_score\n",
        "\n",
        "from google.colab import drive\n",
        "drive.mount(\"/content/drive\")"
      ],
      "execution_count": null,
      "outputs": [
        {
          "output_type": "stream",
          "text": [
            "Go to this URL in a browser: https://accounts.google.com/o/oauth2/auth?client_id=947318989803-6bn6qk8qdgf4n4g3pfee6491hc0brc4i.apps.googleusercontent.com&redirect_uri=urn%3aietf%3awg%3aoauth%3a2.0%3aoob&response_type=code&scope=email%20https%3a%2f%2fwww.googleapis.com%2fauth%2fdocs.test%20https%3a%2f%2fwww.googleapis.com%2fauth%2fdrive%20https%3a%2f%2fwww.googleapis.com%2fauth%2fdrive.photos.readonly%20https%3a%2f%2fwww.googleapis.com%2fauth%2fpeopleapi.readonly\n",
            "\n",
            "Enter your authorization code:\n",
            "··········\n"
          ],
          "name": "stdout"
        }
      ]
    },
    {
      "cell_type": "code",
      "metadata": {
        "id": "wnqvTfZNitSx",
        "colab_type": "code",
        "colab": {}
      },
      "source": [
        "PATH_DATASET = \"drive/My Drive/ColabNotebooks/VietnameseFakeNews/CSV/final2.csv\"\n",
        "PATH_EMBEDDING = \"drive/My Drive/ColabNotebooks/VietnameseFakeNews/Models/cc.vi.300.vec.gz\"\n",
        "PATH_NEW = \"drive/My Drive/ColabNotebooks/VietnameseFakeNews/Models/preproccess.pickle\""
      ],
      "execution_count": null,
      "outputs": []
    },
    {
      "cell_type": "markdown",
      "metadata": {
        "id": "RCVACMwSjcDr",
        "colab_type": "text"
      },
      "source": [
        "Khai báo các hàm cần thiết:\n",
        "\n",
        "\n",
        "*   clean_text: thực hiện loại bỏ url và các ký tự đặc biệt, sau đó token hóa đoạn text.\n",
        "*   pad_array: thêm 0 vào các vector để có được độ dài là giống nhau.\n",
        "\n"
      ]
    },
    {
      "cell_type": "code",
      "metadata": {
        "id": "FGmc9J6VjYJ-",
        "colab_type": "code",
        "colab": {}
      },
      "source": [
        "def clean_text(text):\n",
        "    # Remove URLs\n",
        "    text = re.sub(r\"http\\S+\", \"\", text)\n",
        "    # Tokenize\n",
        "    tokenizer = RegexpTokenizer('\\w+|\\$[\\d\\.]+|\\S+')\n",
        "    tokens = tokenizer.tokenize(text)\n",
        "    # Remove non alphanumerica characters\n",
        "    words = [word for word in tokens if word.isalpha()]    \n",
        "    return words\n",
        "\n",
        "def pad_array(array, token_len):\n",
        "    diff_token = token_len - len(array)\n",
        "    if(diff_token < 0):\n",
        "        array = array[:token_len] # Truncate\n",
        "    else:\n",
        "        # Pad\n",
        "        array += [0]*diff_token # Pad\n",
        "        \n",
        "    return array\n",
        "\n",
        "def max_token(df, col):\n",
        "    tokens_numbers = df.apply(lambda row: len(row[col]), axis = 1)\n",
        "    max_tokens = np.mean(tokens_numbers) + 2 * np.std(tokens_numbers)\n",
        "    return int(max_tokens)"
      ],
      "execution_count": null,
      "outputs": []
    },
    {
      "cell_type": "markdown",
      "metadata": {
        "id": "Jf-8o6nujM6A",
        "colab_type": "text"
      },
      "source": [
        "Load dataset lên"
      ]
    },
    {
      "cell_type": "code",
      "metadata": {
        "id": "2cQh7IhojKAo",
        "colab_type": "code",
        "colab": {
          "base_uri": "https://localhost:8080/",
          "height": 204
        },
        "outputId": "7d785b10-91eb-494b-daca-3101cb8dff48"
      },
      "source": [
        "dataset = pd.read_csv(PATH_DATASET)\n",
        "dataset.head()"
      ],
      "execution_count": null,
      "outputs": [
        {
          "output_type": "execute_result",
          "data": {
            "text/html": [
              "<div>\n",
              "<style scoped>\n",
              "    .dataframe tbody tr th:only-of-type {\n",
              "        vertical-align: middle;\n",
              "    }\n",
              "\n",
              "    .dataframe tbody tr th {\n",
              "        vertical-align: top;\n",
              "    }\n",
              "\n",
              "    .dataframe thead th {\n",
              "        text-align: right;\n",
              "    }\n",
              "</style>\n",
              "<table border=\"1\" class=\"dataframe\">\n",
              "  <thead>\n",
              "    <tr style=\"text-align: right;\">\n",
              "      <th></th>\n",
              "      <th>Unnamed: 0</th>\n",
              "      <th>title</th>\n",
              "      <th>text</th>\n",
              "      <th>label</th>\n",
              "    </tr>\n",
              "  </thead>\n",
              "  <tbody>\n",
              "    <tr>\n",
              "      <th>0</th>\n",
              "      <td>0.0</td>\n",
              "      <td>V.I.Lê-nin - Nhà tư tưởng vĩ đại, lãnh tụ thiê...</td>\n",
              "      <td>(Chinhphu.vn) - Nhân kỷ niệm 150 năm ngày sinh...</td>\n",
              "      <td>1</td>\n",
              "    </tr>\n",
              "    <tr>\n",
              "      <th>1</th>\n",
              "      <td>1.0</td>\n",
              "      <td>Phó Thủ tướng chủ trì họp về phương án tổ chức...</td>\n",
              "      <td>(Chinhphu.vn) – Ngày 21/4, Phó Thủ tướng Vũ Đứ...</td>\n",
              "      <td>1</td>\n",
              "    </tr>\n",
              "    <tr>\n",
              "      <th>2</th>\n",
              "      <td>2.0</td>\n",
              "      <td>Sửa đổi toàn diện Luật Bảo vệ môi trường đáp ứ...</td>\n",
              "      <td>(Chinhphu.vn) - Đây là một trong những yêu cầu...</td>\n",
              "      <td>1</td>\n",
              "    </tr>\n",
              "    <tr>\n",
              "      <th>3</th>\n",
              "      <td>3.0</td>\n",
              "      <td>Bộ Quốc phòng hỗ trợ thiết bị, vật tư phòng dị...</td>\n",
              "      <td>(Chinhphu.vn) - Bộ Quốc phòng Việt Nam hỗ trợ ...</td>\n",
              "      <td>1</td>\n",
              "    </tr>\n",
              "    <tr>\n",
              "      <th>4</th>\n",
              "      <td>4.0</td>\n",
              "      <td>70 năm đoàn kết, đồng hành vì sự nghiệp cách mạng</td>\n",
              "      <td>(Chinhphu.vn) - Lịch sử phát triển 70 năm Hội ...</td>\n",
              "      <td>1</td>\n",
              "    </tr>\n",
              "  </tbody>\n",
              "</table>\n",
              "</div>"
            ],
            "text/plain": [
              "   Unnamed: 0  ... label\n",
              "0         0.0  ...     1\n",
              "1         1.0  ...     1\n",
              "2         2.0  ...     1\n",
              "3         3.0  ...     1\n",
              "4         4.0  ...     1\n",
              "\n",
              "[5 rows x 4 columns]"
            ]
          },
          "metadata": {
            "tags": []
          },
          "execution_count": 5
        }
      ]
    },
    {
      "cell_type": "markdown",
      "metadata": {
        "id": "KJPiZZFNlzU6",
        "colab_type": "text"
      },
      "source": [
        "Có thể thấy răng tập dataset bị mất cân bằng khi các nhãn real (1) quá nhiều."
      ]
    },
    {
      "cell_type": "code",
      "metadata": {
        "id": "qlCfGrXal7VD",
        "colab_type": "code",
        "colab": {
          "base_uri": "https://localhost:8080/",
          "height": 360
        },
        "outputId": "6c037d55-284c-4f3d-c84d-3a202e05014a"
      },
      "source": [
        "dataset['label'].value_counts().plot.bar()"
      ],
      "execution_count": null,
      "outputs": [
        {
          "output_type": "execute_result",
          "data": {
            "text/plain": [
              "<matplotlib.axes._subplots.AxesSubplot at 0x7f08700bfac8>"
            ]
          },
          "metadata": {
            "tags": []
          },
          "execution_count": 6
        },
        {
          "output_type": "display_data",
          "data": {
            "image/png": "[encoded data removed]",
            "text/plain": [
              "<Figure size 576x396 with 1 Axes>"
            ]
          },
          "metadata": {
            "tags": []
          }
        }
      ]
    },
    {
      "cell_type": "markdown",
      "metadata": {
        "id": "-v8hhOUPkV5e",
        "colab_type": "text"
      },
      "source": [
        "# Preproccessing (Tiền xử lý tập dữ liệu)"
      ]
    },
    {
      "cell_type": "markdown",
      "metadata": {
        "id": "7szdaOAYklKI",
        "colab_type": "text"
      },
      "source": [
        "Dùng hàm clean text đã định nghĩa ở trên lần lượt clean và token hóa title và text."
      ]
    },
    {
      "cell_type": "code",
      "metadata": {
        "id": "91biUY9QkKWt",
        "colab_type": "code",
        "colab": {}
      },
      "source": [
        "# Clean content\n",
        "dataset['text'] = dataset.apply(lambda row: clean_text(row['text']), axis=1)\n",
        "\n",
        "# Clean title\n",
        "dataset['title'] = dataset.apply(lambda row: clean_text(row['title']), axis=1)"
      ],
      "execution_count": null,
      "outputs": []
    },
    {
      "cell_type": "code",
      "metadata": {
        "id": "irEaZvVOked1",
        "colab_type": "code",
        "colab": {
          "base_uri": "https://localhost:8080/",
          "height": 204
        },
        "outputId": "43c46ae0-27e0-4dc6-b53e-012ea1952a58"
      },
      "source": [
        "dataset.head()"
      ],
      "execution_count": null,
      "outputs": [
        {
          "output_type": "execute_result",
          "data": {
            "text/html": [
              "<div>\n",
              "<style scoped>\n",
              "    .dataframe tbody tr th:only-of-type {\n",
              "        vertical-align: middle;\n",
              "    }\n",
              "\n",
              "    .dataframe tbody tr th {\n",
              "        vertical-align: top;\n",
              "    }\n",
              "\n",
              "    .dataframe thead th {\n",
              "        text-align: right;\n",
              "    }\n",
              "</style>\n",
              "<table border=\"1\" class=\"dataframe\">\n",
              "  <thead>\n",
              "    <tr style=\"text-align: right;\">\n",
              "      <th></th>\n",
              "      <th>Unnamed: 0</th>\n",
              "      <th>title</th>\n",
              "      <th>text</th>\n",
              "      <th>label</th>\n",
              "    </tr>\n",
              "  </thead>\n",
              "  <tbody>\n",
              "    <tr>\n",
              "      <th>0</th>\n",
              "      <td>0.0</td>\n",
              "      <td>[V, Nhà, tư, tưởng, vĩ, đại, lãnh, tụ, thiên, ...</td>\n",
              "      <td>[Nhân, kỷ, niệm, năm, ngày, sinh, V, Lenin, Nh...</td>\n",
              "      <td>1</td>\n",
              "    </tr>\n",
              "    <tr>\n",
              "      <th>1</th>\n",
              "      <td>1.0</td>\n",
              "      <td>[Phó, Thủ, tướng, chủ, trì, họp, về, phương, á...</td>\n",
              "      <td>[Ngày, Phó, Thủ, tướng, Vũ, Đức, Đam, đã, họp,...</td>\n",
              "      <td>1</td>\n",
              "    </tr>\n",
              "    <tr>\n",
              "      <th>2</th>\n",
              "      <td>2.0</td>\n",
              "      <td>[Sửa, đổi, toàn, diện, Luật, Bảo, vệ, môi, trư...</td>\n",
              "      <td>[Đây, là, một, trong, những, yêu, cầu, được, Ủ...</td>\n",
              "      <td>1</td>\n",
              "    </tr>\n",
              "    <tr>\n",
              "      <th>3</th>\n",
              "      <td>3.0</td>\n",
              "      <td>[Bộ, Quốc, phòng, hỗ, trợ, thiết, bị, vật, tư,...</td>\n",
              "      <td>[Bộ, Quốc, phòng, Việt, Nam, hỗ, trợ, quân, độ...</td>\n",
              "      <td>1</td>\n",
              "    </tr>\n",
              "    <tr>\n",
              "      <th>4</th>\n",
              "      <td>4.0</td>\n",
              "      <td>[năm, đoàn, kết, đồng, hành, vì, sự, nghiệp, c...</td>\n",
              "      <td>[Lịch, sử, phát, triển, năm, Hội, Nhà, báo, Vi...</td>\n",
              "      <td>1</td>\n",
              "    </tr>\n",
              "  </tbody>\n",
              "</table>\n",
              "</div>"
            ],
            "text/plain": [
              "   Unnamed: 0  ... label\n",
              "0         0.0  ...     1\n",
              "1         1.0  ...     1\n",
              "2         2.0  ...     1\n",
              "3         3.0  ...     1\n",
              "4         4.0  ...     1\n",
              "\n",
              "[5 rows x 4 columns]"
            ]
          },
          "metadata": {
            "tags": []
          },
          "execution_count": 8
        }
      ]
    },
    {
      "cell_type": "markdown",
      "metadata": {
        "id": "v97ZJdgsoldw",
        "colab_type": "text"
      },
      "source": [
        "Tìm ra số lượng token tối đa của title và text."
      ]
    },
    {
      "cell_type": "code",
      "metadata": {
        "id": "5nYDyfSsot0v",
        "colab_type": "code",
        "colab": {
          "base_uri": "https://localhost:8080/",
          "height": 34
        },
        "outputId": "fe141112-2e6b-4315-cd55-0a754570b37a"
      },
      "source": [
        "MAX_LEN_TITLE = max_token(dataset, 'title')\n",
        "MAX_LEN_TEXT = max_token(dataset, 'text')\n",
        "print(MAX_LEN_TITLE, MAX_LEN_TEXT)"
      ],
      "execution_count": null,
      "outputs": [
        {
          "output_type": "stream",
          "text": [
            "17 1799\n"
          ],
          "name": "stdout"
        }
      ]
    },
    {
      "cell_type": "markdown",
      "metadata": {
        "id": "gS4PnJLjlE0l",
        "colab_type": "text"
      },
      "source": [
        "Load FastText để thực hiện vector hóa các token. Với mỗi từ sẽ ứng với 1 index trong từ điển."
      ]
    },
    {
      "cell_type": "code",
      "metadata": {
        "id": "Yv0lEUb7lTNw",
        "colab_type": "code",
        "colab": {
          "base_uri": "https://localhost:8080/",
          "height": 71
        },
        "outputId": "20bc1d1c-9a0f-4ba3-aef1-2a6b8ec1dfbc"
      },
      "source": [
        "model = KeyedVectors.load_word2vec_format(PATH_EMBEDDING, binary=False, limit=50000)"
      ],
      "execution_count": null,
      "outputs": [
        {
          "output_type": "stream",
          "text": [
            "/usr/local/lib/python3.6/dist-packages/smart_open/smart_open_lib.py:253: UserWarning: This function is deprecated, use smart_open.open instead. See the migration notes for details: https://github.com/RaRe-Technologies/smart_open/blob/master/README.rst#migrating-to-the-new-open-function\n",
            "  'See the migration notes for details: %s' % _MIGRATION_NOTES_URL\n"
          ],
          "name": "stderr"
        }
      ]
    },
    {
      "cell_type": "markdown",
      "metadata": {
        "id": "4t356o_hnfVR",
        "colab_type": "text"
      },
      "source": [
        "Vector hóa dataset."
      ]
    },
    {
      "cell_type": "code",
      "metadata": {
        "id": "68KHf8selYve",
        "colab_type": "code",
        "colab": {}
      },
      "source": [
        "dataset['text'] = dataset.apply(lambda r: [model.vocab[x].index for x in r['text'] if x in model.vocab], axis=1)\n",
        "dataset['title'] = dataset.apply(lambda r: [model.vocab[x].index for x in r['title'] if x in model.vocab], axis=1)"
      ],
      "execution_count": null,
      "outputs": []
    },
    {
      "cell_type": "code",
      "metadata": {
        "id": "y3VGydaCndNo",
        "colab_type": "code",
        "colab": {
          "base_uri": "https://localhost:8080/",
          "height": 204
        },
        "outputId": "e16624ef-ae67-419b-fb10-e54d4ab273c0"
      },
      "source": [
        "dataset.head()"
      ],
      "execution_count": null,
      "outputs": [
        {
          "output_type": "execute_result",
          "data": {
            "text/html": [
              "<div>\n",
              "<style scoped>\n",
              "    .dataframe tbody tr th:only-of-type {\n",
              "        vertical-align: middle;\n",
              "    }\n",
              "\n",
              "    .dataframe tbody tr th {\n",
              "        vertical-align: top;\n",
              "    }\n",
              "\n",
              "    .dataframe thead th {\n",
              "        text-align: right;\n",
              "    }\n",
              "</style>\n",
              "<table border=\"1\" class=\"dataframe\">\n",
              "  <thead>\n",
              "    <tr style=\"text-align: right;\">\n",
              "      <th></th>\n",
              "      <th>Unnamed: 0</th>\n",
              "      <th>title</th>\n",
              "      <th>text</th>\n",
              "      <th>label</th>\n",
              "    </tr>\n",
              "  </thead>\n",
              "  <tbody>\n",
              "    <tr>\n",
              "      <th>0</th>\n",
              "      <td>0.0</td>\n",
              "      <td>[795, 774, 860, 1399, 3863, 1110, 2870, 3715, ...</td>\n",
              "      <td>[2836, 2828, 3646, 19, 47, 263, 795, 5531, 774...</td>\n",
              "      <td>1</td>\n",
              "    </tr>\n",
              "    <tr>\n",
              "      <th>1</th>\n",
              "      <td>1.0</td>\n",
              "      <td>[665, 11277, 748, 461, 4896, 887, 30, 920, 714...</td>\n",
              "      <td>[277, 665, 11277, 748, 3555, 369, 23529, 22, 8...</td>\n",
              "      <td>1</td>\n",
              "    </tr>\n",
              "    <tr>\n",
              "      <th>2</th>\n",
              "      <td>2.0</td>\n",
              "      <td>[2027, 292, 550, 1328, 1095, 4493, 3314, 855, ...</td>\n",
              "      <td>[335, 7, 14, 13, 24, 374, 553, 12, 578, 2822, ...</td>\n",
              "      <td>1</td>\n",
              "    </tr>\n",
              "    <tr>\n",
              "      <th>3</th>\n",
              "      <td>3.0</td>\n",
              "      <td>[239, 3374, 180, 9310, 2612, 3291, 52, 847, 86...</td>\n",
              "      <td>[239, 3374, 180, 318, 454, 9310, 2612, 271, 50...</td>\n",
              "      <td>1</td>\n",
              "    </tr>\n",
              "    <tr>\n",
              "      <th>4</th>\n",
              "      <td>4.0</td>\n",
              "      <td>[19, 768, 1146, 188, 1210, 109, 69, 2665, 108,...</td>\n",
              "      <td>[1821, 1344, 582, 3905, 19, 885, 774, 481, 318...</td>\n",
              "      <td>1</td>\n",
              "    </tr>\n",
              "  </tbody>\n",
              "</table>\n",
              "</div>"
            ],
            "text/plain": [
              "   Unnamed: 0  ... label\n",
              "0         0.0  ...     1\n",
              "1         1.0  ...     1\n",
              "2         2.0  ...     1\n",
              "3         3.0  ...     1\n",
              "4         4.0  ...     1\n",
              "\n",
              "[5 rows x 4 columns]"
            ]
          },
          "metadata": {
            "tags": []
          },
          "execution_count": 12
        }
      ]
    },
    {
      "cell_type": "markdown",
      "metadata": {
        "id": "Sq-fpgW4meQQ",
        "colab_type": "text"
      },
      "source": [
        "Để cân bằng lại tập dữ liệu, chúng ta cần generate thêm các dòng có nhãn fake (0) bằng RandomOverSampler của thư viện imblearn."
      ]
    },
    {
      "cell_type": "code",
      "metadata": {
        "id": "IzxxtFCOlcaG",
        "colab_type": "code",
        "colab": {
          "base_uri": "https://localhost:8080/",
          "height": 397
        },
        "outputId": "8abe6d3e-09a3-4483-c96c-c64ddea1f548"
      },
      "source": [
        "ros = RandomOverSampler()\n",
        "x_over, y_over = ros.fit_resample(dataset[['title', 'text']], dataset['label'])\n",
        "dataset = pd.DataFrame(data=x_over, columns=['title', 'text'])\n",
        "dataset['label'] = y_over\n",
        "dataset['label'].value_counts().plot.bar()\n",
        "\n",
        "del x_over, y_over"
      ],
      "execution_count": null,
      "outputs": [
        {
          "output_type": "stream",
          "text": [
            "/usr/local/lib/python3.6/dist-packages/sklearn/utils/deprecation.py:87: FutureWarning: Function safe_indexing is deprecated; safe_indexing is deprecated in version 0.22 and will be removed in version 0.24.\n",
            "  warnings.warn(msg, category=FutureWarning)\n"
          ],
          "name": "stderr"
        },
        {
          "output_type": "display_data",
          "data": {
            "image/png": "[encoded data removed]",
            "text/plain": [
              "<Figure size 576x396 with 1 Axes>"
            ]
          },
          "metadata": {
            "tags": []
          }
        }
      ]
    },
    {
      "cell_type": "markdown",
      "metadata": {
        "id": "Sv9Yj8qknnIk",
        "colab_type": "text"
      },
      "source": [
        "Padding dataset."
      ]
    },
    {
      "cell_type": "code",
      "metadata": {
        "id": "2NM-krPao0kq",
        "colab_type": "code",
        "colab": {}
      },
      "source": [
        "dataset['text'] = dataset.apply(lambda row: pad_array(row['text'], MAX_LEN_TEXT), axis=1)\n",
        "dataset['title'] = dataset.apply(lambda row: pad_array(row['title'], MAX_LEN_TITLE), axis=1)"
      ],
      "execution_count": null,
      "outputs": []
    },
    {
      "cell_type": "code",
      "metadata": {
        "id": "D_LtURyno7fE",
        "colab_type": "code",
        "colab": {
          "base_uri": "https://localhost:8080/",
          "height": 204
        },
        "outputId": "c5abd278-1144-46af-f5f6-9d6ad71ce113"
      },
      "source": [
        "dataset.head()"
      ],
      "execution_count": null,
      "outputs": [
        {
          "output_type": "execute_result",
          "data": {
            "text/html": [
              "<div>\n",
              "<style scoped>\n",
              "    .dataframe tbody tr th:only-of-type {\n",
              "        vertical-align: middle;\n",
              "    }\n",
              "\n",
              "    .dataframe tbody tr th {\n",
              "        vertical-align: top;\n",
              "    }\n",
              "\n",
              "    .dataframe thead th {\n",
              "        text-align: right;\n",
              "    }\n",
              "</style>\n",
              "<table border=\"1\" class=\"dataframe\">\n",
              "  <thead>\n",
              "    <tr style=\"text-align: right;\">\n",
              "      <th></th>\n",
              "      <th>title</th>\n",
              "      <th>text</th>\n",
              "      <th>label</th>\n",
              "    </tr>\n",
              "  </thead>\n",
              "  <tbody>\n",
              "    <tr>\n",
              "      <th>0</th>\n",
              "      <td>[795, 774, 860, 1399, 3863, 1110, 2870, 3715, ...</td>\n",
              "      <td>[2836, 2828, 3646, 19, 47, 263, 795, 5531, 774...</td>\n",
              "      <td>1</td>\n",
              "    </tr>\n",
              "    <tr>\n",
              "      <th>1</th>\n",
              "      <td>[665, 11277, 748, 461, 4896, 887, 30, 920, 714...</td>\n",
              "      <td>[277, 665, 11277, 748, 3555, 369, 23529, 22, 8...</td>\n",
              "      <td>1</td>\n",
              "    </tr>\n",
              "    <tr>\n",
              "      <th>2</th>\n",
              "      <td>[2027, 292, 550, 1328, 1095, 4493, 3314, 855, ...</td>\n",
              "      <td>[335, 7, 14, 13, 24, 374, 553, 12, 578, 2822, ...</td>\n",
              "      <td>1</td>\n",
              "    </tr>\n",
              "    <tr>\n",
              "      <th>3</th>\n",
              "      <td>[239, 3374, 180, 9310, 2612, 3291, 52, 847, 86...</td>\n",
              "      <td>[239, 3374, 180, 318, 454, 9310, 2612, 271, 50...</td>\n",
              "      <td>1</td>\n",
              "    </tr>\n",
              "    <tr>\n",
              "      <th>4</th>\n",
              "      <td>[19, 768, 1146, 188, 1210, 109, 69, 2665, 108,...</td>\n",
              "      <td>[1821, 1344, 582, 3905, 19, 885, 774, 481, 318...</td>\n",
              "      <td>1</td>\n",
              "    </tr>\n",
              "  </tbody>\n",
              "</table>\n",
              "</div>"
            ],
            "text/plain": [
              "                                               title  ... label\n",
              "0  [795, 774, 860, 1399, 3863, 1110, 2870, 3715, ...  ...     1\n",
              "1  [665, 11277, 748, 461, 4896, 887, 30, 920, 714...  ...     1\n",
              "2  [2027, 292, 550, 1328, 1095, 4493, 3314, 855, ...  ...     1\n",
              "3  [239, 3374, 180, 9310, 2612, 3291, 52, 847, 86...  ...     1\n",
              "4  [19, 768, 1146, 188, 1210, 109, 69, 2665, 108,...  ...     1\n",
              "\n",
              "[5 rows x 3 columns]"
            ]
          },
          "metadata": {
            "tags": []
          },
          "execution_count": 15
        }
      ]
    },
    {
      "cell_type": "markdown",
      "metadata": {
        "id": "4mPD1IFHpPxl",
        "colab_type": "text"
      },
      "source": [
        "# Classify"
      ]
    },
    {
      "cell_type": "code",
      "metadata": {
        "id": "4gNr6NJDpSat",
        "colab_type": "code",
        "colab": {}
      },
      "source": [
        "embed_mat = np.zeros((50000, 300))\n",
        "for i, e in model.vocab.items():\n",
        "    embed_mat[e.index] = model[i]"
      ],
      "execution_count": null,
      "outputs": []
    },
    {
      "cell_type": "markdown",
      "metadata": {
        "id": "aimSjxboRGce",
        "colab_type": "text"
      },
      "source": [
        "Chia dataset, trong đó 30% dữ liệu dùng để test, và 30% dữ liệu train dùng để valid"
      ]
    },
    {
      "cell_type": "code",
      "metadata": {
        "id": "b3MvQvLJpj8L",
        "colab_type": "code",
        "colab": {}
      },
      "source": [
        "X = dataset[['title', 'text']]\n",
        "Y = dataset['label']\n",
        "\n",
        "X_train, X_test, Y_train, Y_test = train_test_split(X, Y, test_size=0.3, random_state=1)\n",
        "X_train, X_valid, Y_train, Y_valid = train_test_split(X_train, Y_train, test_size=0.3, random_state=1)"
      ],
      "execution_count": null,
      "outputs": []
    },
    {
      "cell_type": "code",
      "metadata": {
        "id": "lmO0Si-tpm4Z",
        "colab_type": "code",
        "colab": {}
      },
      "source": [
        "train_fit = [np.asanyarray(X_train['title'].tolist()), np.asanyarray(X_train['text'].tolist())]\n",
        "valid_fit = [np.asanyarray(X_valid['title'].tolist()), np.asanyarray(X_valid['text'].tolist())]\n",
        "test_fit = [np.asanyarray(X_test['title'].tolist()), np.asanyarray(X_test['text'].tolist())]"
      ],
      "execution_count": null,
      "outputs": []
    },
    {
      "cell_type": "markdown",
      "metadata": {
        "id": "ld-mfz4Lpr5M",
        "colab_type": "text"
      },
      "source": [
        "Khai baos các tham số cho mô hình LSMT"
      ]
    },
    {
      "cell_type": "code",
      "metadata": {
        "id": "U4kuwPj8pwKL",
        "colab_type": "code",
        "colab": {}
      },
      "source": [
        "params_lstm = {\n",
        "    'lr': 0.2639850638741692,\n",
        "    'momentum': 0.08255873365806747,\n",
        "    'dropout': 0.10591561319817788,\n",
        "    'dense1': 73,\n",
        "    'dense2': 24,\n",
        "    'lstmTitle': 46,\n",
        "    'lstmContent': 231\n",
        "}"
      ],
      "execution_count": null,
      "outputs": []
    },
    {
      "cell_type": "code",
      "metadata": {
        "id": "NgRsAU9gp8mJ",
        "colab_type": "code",
        "colab": {}
      },
      "source": [
        "seed(50)\n",
        "set_random_seed(50)\n",
        "keras.backend.clear_session()"
      ],
      "execution_count": null,
      "outputs": []
    },
    {
      "cell_type": "markdown",
      "metadata": {
        "id": "7_2qsKInR5g8",
        "colab_type": "text"
      },
      "source": [
        "Tạo model, dùng LSTM với mỗi nhánh title và content, sau đó merge lại với nhau"
      ]
    },
    {
      "cell_type": "code",
      "metadata": {
        "id": "oOP9PJSmB6VF",
        "colab_type": "code",
        "colab": {
          "base_uri": "https://localhost:8080/",
          "height": 561
        },
        "outputId": "93d56d73-3b3b-4c6a-fc07-eaee989499a7"
      },
      "source": [
        "# input title\n",
        "title_input = keras.layers.Input(shape=(MAX_LEN_TITLE,), name='title_input')\n",
        "inp = keras.layers.Embedding(output_dim=300, input_dim=50000, weights=[embed_mat], trainable=False)(title_input)\n",
        "x = keras.layers.Bidirectional(keras.layers.LSTM(params_lstm['lstmTitle']))(inp)\n",
        "# CudnnLSTM\n",
        "\n",
        "# input_content\n",
        "content_input = keras.layers.Input(shape=(MAX_LEN_TEXT,), name='content_input')\n",
        "inp2 = keras.layers.Embedding(output_dim=300, input_dim=50000, weights=[embed_mat], trainable=False)(content_input)\n",
        "x2 = keras.layers.Bidirectional(keras.layers.LSTM(params_lstm['lstmContent']))(inp2)\n",
        "# CudnnLSTM\n",
        "\n",
        "# Merge\n",
        "x = keras.layers.concatenate([x, x2])\n",
        "\n",
        "# Common part\n",
        "x = keras.layers.Dense(params_lstm['dense1'], activation='relu')(x)\n",
        "x = keras.layers.Dropout(params_lstm['dropout'])(x)\n",
        "x = keras.layers.Dense(params_lstm['dense2'], activation='relu')(x)\n",
        "x = keras.layers.Dropout(0.2)(x)\n",
        "\n",
        "out = keras.layers.Dense(1, activation='sigmoid')(x)\n",
        "\n",
        "# Build model\n",
        "model = keras.models.Model(inputs=[title_input, content_input], outputs=[out])\n",
        "model.compile(tf.train.MomentumOptimizer(learning_rate=params_lstm['lr'], momentum=params_lstm['momentum']), loss='binary_crossentropy', metrics=['acc'])\n",
        "model.summary()"
      ],
      "execution_count": null,
      "outputs": [
        {
          "output_type": "stream",
          "text": [
            "__________________________________________________________________________________________________\n",
            "Layer (type)                    Output Shape         Param #     Connected to                     \n",
            "==================================================================================================\n",
            "title_input (InputLayer)        (None, 17)           0                                            \n",
            "__________________________________________________________________________________________________\n",
            "content_input (InputLayer)      (None, 1799)         0                                            \n",
            "__________________________________________________________________________________________________\n",
            "embedding (Embedding)           (None, 17, 300)      15000000    title_input[0][0]                \n",
            "__________________________________________________________________________________________________\n",
            "embedding_1 (Embedding)         (None, 1799, 300)    15000000    content_input[0][0]              \n",
            "__________________________________________________________________________________________________\n",
            "bidirectional (Bidirectional)   (None, 92)           127696      embedding[0][0]                  \n",
            "__________________________________________________________________________________________________\n",
            "bidirectional_1 (Bidirectional) (None, 462)          983136      embedding_1[0][0]                \n",
            "__________________________________________________________________________________________________\n",
            "concatenate (Concatenate)       (None, 554)          0           bidirectional[0][0]              \n",
            "                                                                 bidirectional_1[0][0]            \n",
            "__________________________________________________________________________________________________\n",
            "dense (Dense)                   (None, 73)           40515       concatenate[0][0]                \n",
            "__________________________________________________________________________________________________\n",
            "dropout (Dropout)               (None, 73)           0           dense[0][0]                      \n",
            "__________________________________________________________________________________________________\n",
            "dense_1 (Dense)                 (None, 24)           1776        dropout[0][0]                    \n",
            "__________________________________________________________________________________________________\n",
            "dropout_1 (Dropout)             (None, 24)           0           dense_1[0][0]                    \n",
            "__________________________________________________________________________________________________\n",
            "dense_2 (Dense)                 (None, 1)            25          dropout_1[0][0]                  \n",
            "==================================================================================================\n",
            "Total params: 31,153,148\n",
            "Trainable params: 1,153,148\n",
            "Non-trainable params: 30,000,000\n",
            "__________________________________________________________________________________________________\n"
          ],
          "name": "stdout"
        }
      ]
    },
    {
      "cell_type": "code",
      "metadata": {
        "id": "xKm8dTveGTO6",
        "colab_type": "code",
        "colab": {}
      },
      "source": [
        "# Optimize TPU\n",
        "%%capture\n",
        "# This address identifies the TPU we'll use when configuring TensorFlow.\n",
        "TPU_WORKER = 'grpc://' + os.environ['COLAB_TPU_ADDR']\n",
        "tf.logging.set_verbosity(tf.logging.INFO)\n",
        "\n",
        "tpu_model = tf.contrib.tpu.keras_to_tpu_model(\n",
        "    model,\n",
        "    strategy=tf.contrib.tpu.TPUDistributionStrategy(\n",
        "        tf.contrib.cluster_resolver.TPUClusterResolver(TPU_WORKER)))"
      ],
      "execution_count": null,
      "outputs": []
    },
    {
      "cell_type": "markdown",
      "metadata": {
        "id": "rsZ6XarsSGxd",
        "colab_type": "text"
      },
      "source": [
        "Tiến hành train dữ liệu cho model"
      ]
    },
    {
      "cell_type": "code",
      "metadata": {
        "id": "qd_cJfpQqmgV",
        "colab_type": "code",
        "colab": {
          "base_uri": "https://localhost:8080/",
          "height": 306
        },
        "outputId": "106f7bf2-6ca0-417c-f37a-234029e2bd1d"
      },
      "source": [
        "model = tpu_model\n",
        "\n",
        "hist = model.fit(x=train_fit, y=np.asarray(Y_train.tolist()), batch_size=64*8, epochs=30, \n",
        "                 callbacks = [keras.callbacks.EarlyStopping(monitor='val_acc', patience=2, min_delta = 0.01)], \n",
        "                 validation_data=(valid_fit, np.array(Y_valid.tolist())))"
      ],
      "execution_count": null,
      "outputs": [
        {
          "output_type": "stream",
          "text": [
            "Train on 10469 samples, validate on 4488 samples\n",
            "Epoch 1/30\n",
            "10469/10469 [==============================] - 92s 9ms/sample - loss: 0.6111 - acc: 0.6857 - val_loss: 0.4649 - val_acc: 0.8273\n",
            "Epoch 2/30\n",
            "10469/10469 [==============================] - 11s 1ms/sample - loss: 0.4504 - acc: 0.8161 - val_loss: 0.4954 - val_acc: 0.8311\n",
            "Epoch 3/30\n",
            "10469/10469 [==============================] - 11s 1ms/sample - loss: 0.3723 - acc: 0.8567 - val_loss: 0.2873 - val_acc: 0.8672\n",
            "Epoch 4/30\n",
            "10469/10469 [==============================] - 11s 1ms/sample - loss: 0.3553 - acc: 0.8510 - val_loss: 0.2617 - val_acc: 0.8772\n",
            "Epoch 5/30\n",
            "10469/10469 [==============================] - 11s 1ms/sample - loss: 0.2304 - acc: 0.9090 - val_loss: 0.2029 - val_acc: 0.9153\n",
            "Epoch 6/30\n",
            "10469/10469 [==============================] - 11s 1ms/sample - loss: 0.2273 - acc: 0.9165 - val_loss: 0.1442 - val_acc: 0.9519\n",
            "Epoch 7/30\n",
            "10469/10469 [==============================] - 11s 1ms/sample - loss: 0.1551 - acc: 0.9406 - val_loss: 0.1206 - val_acc: 0.9550\n",
            "Epoch 8/30\n",
            "10469/10469 [==============================] - 11s 1ms/sample - loss: 0.1425 - acc: 0.9497 - val_loss: 0.1675 - val_acc: 0.9162\n"
          ],
          "name": "stdout"
        }
      ]
    },
    {
      "cell_type": "code",
      "metadata": {
        "id": "5n1jqsriqutz",
        "colab_type": "code",
        "colab": {
          "base_uri": "https://localhost:8080/",
          "height": 347
        },
        "outputId": "c724409a-47f2-4fd6-b92d-a9da4eaa3873"
      },
      "source": [
        "plt.plot(hist.history['val_acc'], label='valid_acc')\n",
        "plt.plot(hist.history['acc'], label='train_acc')\n",
        "plt.legend()\n",
        "plt.show()"
      ],
      "execution_count": null,
      "outputs": [
        {
          "output_type": "display_data",
          "data": {
            "image/png": "[encoded data removed]",
            "text/plain": [
              "<Figure size 576x396 with 1 Axes>"
            ]
          },
          "metadata": {
            "tags": []
          }
        }
      ]
    },
    {
      "cell_type": "code",
      "metadata": {
        "id": "NTpmDyiZqwmI",
        "colab_type": "code",
        "colab": {
          "base_uri": "https://localhost:8080/",
          "height": 347
        },
        "outputId": "18702026-a776-425c-a3b0-7e452257964b"
      },
      "source": [
        "plt.plot(hist.history['val_loss'], label='val_loss')\n",
        "plt.plot(hist.history['loss'], label='train_loss')\n",
        "plt.legend()\n",
        "plt.show()"
      ],
      "execution_count": null,
      "outputs": [
        {
          "output_type": "display_data",
          "data": {
            "image/png": "[encoded data removed]",
            "text/plain": [
              "<Figure size 576x396 with 1 Axes>"
            ]
          },
          "metadata": {
            "tags": []
          }
        }
      ]
    },
    {
      "cell_type": "markdown",
      "metadata": {
        "id": "XluR62MoSfAh",
        "colab_type": "text"
      },
      "source": [
        "Tiến hành predict với bộ data test"
      ]
    },
    {
      "cell_type": "code",
      "metadata": {
        "id": "E52hV4iLrcaj",
        "colab_type": "code",
        "colab": {
          "base_uri": "https://localhost:8080/",
          "height": 102
        },
        "outputId": "7e5a7b13-6647-4523-c0cf-c333f4b93478"
      },
      "source": [
        "model = model.sync_to_cpu()\n",
        "test_pred = model.predict(test_fit)\n",
        "test_acc = accuracy_score(np.array(Y_test.tolist()), test_pred.round())\n",
        "print(\"Test set acc:\", test_acc)\n",
        "print(\"Validation set acc:\", hist.history['val_acc'][-1])\n",
        "print('recall:', recall_score(Y_test.to_list(), test_pred.round()))\n",
        "print('precision:', precision_score(Y_test.to_list(), test_pred.round()))\n",
        "print('f1:', f1_score(Y_test.to_list(), test_pred.round()))"
      ],
      "execution_count": null,
      "outputs": [
        {
          "output_type": "stream",
          "text": [
            "Test set acc: 0.9046950553735766\n",
            "Validation set acc: 0.916221\n",
            "recall: 0.9957055214723927\n",
            "precision: 0.8446526151444185\n",
            "f1: 0.9139800084471351\n"
          ],
          "name": "stdout"
        }
      ]
    },
    {
      "cell_type": "code",
      "metadata": {
        "id": "p9cU3rQk4gVY",
        "colab_type": "code",
        "colab": {
          "base_uri": "https://localhost:8080/",
          "height": 347
        },
        "outputId": "8e8bc3b0-02f3-4e54-af76-0fcc549e10ec"
      },
      "source": [
        "matrix = confusion_matrix(np.array(Y_test.tolist()), test_pred.round())\n",
        "df_cm = pd.DataFrame(matrix, columns=['fake', 'true'], index=['fake', 'true'])\n",
        "seaborn.heatmap(df_cm, annot=True, fmt='g')\n",
        "plt.show()"
      ],
      "execution_count": null,
      "outputs": [
        {
          "output_type": "display_data",
          "data": {
            "image/png": "[encoded data removed]",
            "text/plain": [
              "<Figure size 576x396 with 2 Axes>"
            ]
          },
          "metadata": {
            "tags": []
          }
        }
      ]
    },
    {
      "cell_type": "code",
      "metadata": {
        "id": "vX01hasirWuD",
        "colab_type": "code",
        "colab": {
          "base_uri": "https://localhost:8080/",
          "height": 403
        },
        "outputId": "23429919-26b6-4860-c43f-51809576863c"
      },
      "source": [
        "fpr, tpr, thresholds = metrics.roc_curve(Y_test, test_pred)\n",
        "auc = metrics.roc_auc_score(Y_test, test_pred)\n",
        "\n",
        "fig,ax = plt.subplots()\n",
        "ax.set_title('AUC={}'.format(auc))\n",
        "fig.suptitle('Roc curve')\n",
        "\n",
        "print(\"LSTM\")\n",
        "ax.plot(fpr,tpr)\n",
        "plt.show()"
      ],
      "execution_count": null,
      "outputs": [
        {
          "output_type": "stream",
          "text": [
            "LSTM\n"
          ],
          "name": "stdout"
        },
        {
          "output_type": "display_data",
          "data": {
            "image/png": "[encoded data removed]",
            "text/plain": [
              "<Figure size 576x396 with 1 Axes>"
            ]
          },
          "metadata": {
            "tags": []
          }
        }
      ]
    },
    {
      "cell_type": "code",
      "metadata": {
        "id": "OZazBSWl4BiE",
        "colab_type": "code",
        "colab": {}
      },
      "source": [
        "model.save('drive/My Drive/ColabNotebooks/VietnameseFakeNews/Models/fakenews1905.h5')"
      ],
      "execution_count": null,
      "outputs": []
    }
  ]
}