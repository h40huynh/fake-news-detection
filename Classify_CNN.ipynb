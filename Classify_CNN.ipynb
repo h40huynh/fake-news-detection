{
  "nbformat": 4,
  "nbformat_minor": 0,
  "metadata": {
    "colab": {
      "name": "Classify-CNN.ipynb",
      "provenance": [],
      "collapsed_sections": [],
      "authorship_tag": "ABX9TyMVq7Zyk3C8+xZ4dMEsMVQY",
      "include_colab_link": true
    },
    "kernelspec": {
      "name": "python3",
      "display_name": "Python 3"
    },
    "accelerator": "TPU"
  },
  "cells": [
    {
      "cell_type": "markdown",
      "metadata": {
        "id": "view-in-github",
        "colab_type": "text"
      },
      "source": [
        "<a href=\"https://colab.research.google.com/github/h40huynh/fake-news-detection/blob/master/Classify_CNN.ipynb\" target=\"_parent\"><img src=\"https://colab.research.google.com/assets/colab-badge.svg\" alt=\"Open In Colab\"/></a>"
      ]
    },
    {
      "cell_type": "code",
      "metadata": {
        "id": "yeoD_78muFUX",
        "colab_type": "code",
        "colab": {}
      },
      "source": [
        "%%capture\n",
        "!pip install tensorflow==1.13.1"
      ],
      "execution_count": null,
      "outputs": []
    },
    {
      "cell_type": "code",
      "metadata": {
        "id": "KgxAD03-ifFx",
        "colab_type": "code",
        "colab": {}
      },
      "source": [
        "%%capture\n",
        "import os\n",
        "\n",
        "import pandas as pd\n",
        "import numpy as np\n",
        "\n",
        "from matplotlib import style, pyplot as plt\n",
        "import seaborn\n",
        "style.use('seaborn')\n",
        "\n",
        "from gensim.models import KeyedVectors\n",
        "\n",
        "import re\n",
        "from nltk.tokenize import RegexpTokenizer\n",
        "from imblearn.over_sampling import RandomOverSampler\n",
        "\n",
        "import tensorflow as tf\n",
        "from tensorflow import keras\n",
        "from numpy.random import seed\n",
        "from tensorflow.random import set_random_seed\n",
        "\n",
        "from sklearn import metrics\n",
        "from sklearn.model_selection import train_test_split\n",
        "from sklearn.metrics import accuracy_score, confusion_matrix, classification_report, recall_score, precision_score, f1_score\n",
        "\n",
        "from google.colab import drive\n",
        "drive.mount(\"/content/drive\")"
      ],
      "execution_count": null,
      "outputs": []
    },
    {
      "cell_type": "code",
      "metadata": {
        "id": "IJzjUh59uLk4",
        "colab_type": "code",
        "colab": {}
      },
      "source": [
        "PATH_DATA = \"drive/My Drive/ColabNotebooks/VietnameseFakeNews/Models/preproccess.pickle\"\n",
        "PATH_EMBEDDING = \"drive/My Drive/ColabNotebooks/VietnameseFakeNews/Models/cc.vi.300.vec.gz\""
      ],
      "execution_count": null,
      "outputs": []
    },
    {
      "cell_type": "code",
      "metadata": {
        "id": "p3zmLcy1uSbL",
        "colab_type": "code",
        "colab": {}
      },
      "source": [
        "dataset = pd.read_pickle(PATH_DATA)"
      ],
      "execution_count": null,
      "outputs": []
    },
    {
      "cell_type": "code",
      "metadata": {
        "id": "TJSQy_j6ZSHg",
        "colab_type": "code",
        "colab": {}
      },
      "source": [
        "#dataset['label'] = dataset.apply(lambda r: 1 if r['type'] == [0, 0, 0, 1] else 0, axis = 1)"
      ],
      "execution_count": null,
      "outputs": []
    },
    {
      "cell_type": "code",
      "metadata": {
        "id": "GEnOAwVAweYy",
        "colab_type": "code",
        "colab": {
          "base_uri": "https://localhost:8080/",
          "height": 204
        },
        "outputId": "4fc09747-035d-469e-d8da-520b307dad00"
      },
      "source": [
        "dataset.head()"
      ],
      "execution_count": null,
      "outputs": [
        {
          "output_type": "execute_result",
          "data": {
            "text/html": [
              "<div>\n",
              "<style scoped>\n",
              "    .dataframe tbody tr th:only-of-type {\n",
              "        vertical-align: middle;\n",
              "    }\n",
              "\n",
              "    .dataframe tbody tr th {\n",
              "        vertical-align: top;\n",
              "    }\n",
              "\n",
              "    .dataframe thead th {\n",
              "        text-align: right;\n",
              "    }\n",
              "</style>\n",
              "<table border=\"1\" class=\"dataframe\">\n",
              "  <thead>\n",
              "    <tr style=\"text-align: right;\">\n",
              "      <th></th>\n",
              "      <th>title</th>\n",
              "      <th>text</th>\n",
              "      <th>label</th>\n",
              "    </tr>\n",
              "  </thead>\n",
              "  <tbody>\n",
              "    <tr>\n",
              "      <th>0</th>\n",
              "      <td>[795, 774, 860, 1399, 3863, 1110, 2870, 3715, ...</td>\n",
              "      <td>[2836, 2828, 3646, 19, 47, 263, 795, 5531, 774...</td>\n",
              "      <td>1</td>\n",
              "    </tr>\n",
              "    <tr>\n",
              "      <th>1</th>\n",
              "      <td>[665, 11277, 748, 461, 4896, 887, 30, 920, 714...</td>\n",
              "      <td>[277, 665, 11277, 748, 3555, 369, 23529, 22, 8...</td>\n",
              "      <td>1</td>\n",
              "    </tr>\n",
              "    <tr>\n",
              "      <th>2</th>\n",
              "      <td>[2027, 292, 550, 1328, 1095, 4493, 3314, 855, ...</td>\n",
              "      <td>[335, 7, 14, 13, 24, 374, 553, 12, 578, 2822, ...</td>\n",
              "      <td>1</td>\n",
              "    </tr>\n",
              "    <tr>\n",
              "      <th>3</th>\n",
              "      <td>[239, 3374, 180, 9310, 2612, 3291, 52, 847, 86...</td>\n",
              "      <td>[239, 3374, 180, 318, 454, 9310, 2612, 271, 50...</td>\n",
              "      <td>1</td>\n",
              "    </tr>\n",
              "    <tr>\n",
              "      <th>4</th>\n",
              "      <td>[19, 768, 1146, 188, 1210, 109, 69, 2665, 108,...</td>\n",
              "      <td>[1821, 1344, 582, 3905, 19, 885, 774, 481, 318...</td>\n",
              "      <td>1</td>\n",
              "    </tr>\n",
              "  </tbody>\n",
              "</table>\n",
              "</div>"
            ],
            "text/plain": [
              "                                               title  ... label\n",
              "0  [795, 774, 860, 1399, 3863, 1110, 2870, 3715, ...  ...     1\n",
              "1  [665, 11277, 748, 461, 4896, 887, 30, 920, 714...  ...     1\n",
              "2  [2027, 292, 550, 1328, 1095, 4493, 3314, 855, ...  ...     1\n",
              "3  [239, 3374, 180, 9310, 2612, 3291, 52, 847, 86...  ...     1\n",
              "4  [19, 768, 1146, 188, 1210, 109, 69, 2665, 108,...  ...     1\n",
              "\n",
              "[5 rows x 3 columns]"
            ]
          },
          "metadata": {
            "tags": []
          },
          "execution_count": 188
        }
      ]
    },
    {
      "cell_type": "code",
      "metadata": {
        "id": "RroPsmY3xwv8",
        "colab_type": "code",
        "colab": {}
      },
      "source": [
        "len_content = 1799\n",
        "len_title = 17"
      ],
      "execution_count": null,
      "outputs": []
    },
    {
      "cell_type": "code",
      "metadata": {
        "id": "iUDLwbABzeqa",
        "colab_type": "code",
        "colab": {
          "base_uri": "https://localhost:8080/",
          "height": 71
        },
        "outputId": "536f598c-85f5-47fa-d4c7-b1f6482ca241"
      },
      "source": [
        "# Word2Vec\n",
        "model = KeyedVectors.load_word2vec_format(PATH_EMBEDDING, binary=False, limit=50000)\n",
        "embed_mat = np.zeros((50000, 300))\n",
        "for i, e in model.vocab.items():\n",
        "    embed_mat[e.index] = model[i]"
      ],
      "execution_count": null,
      "outputs": [
        {
          "output_type": "stream",
          "text": [
            "/usr/local/lib/python3.6/dist-packages/smart_open/smart_open_lib.py:254: UserWarning: This function is deprecated, use smart_open.open instead. See the migration notes for details: https://github.com/RaRe-Technologies/smart_open/blob/master/README.rst#migrating-to-the-new-open-function\n",
            "  'See the migration notes for details: %s' % _MIGRATION_NOTES_URL\n"
          ],
          "name": "stderr"
        }
      ]
    },
    {
      "cell_type": "code",
      "metadata": {
        "id": "i9PjXiheAZCN",
        "colab_type": "code",
        "colab": {}
      },
      "source": [
        "X = dataset[['title', 'text']]\n",
        "Y = dataset['label']\n",
        "\n",
        "X_train, X_test, Y_train, Y_test = train_test_split(X, Y, test_size=0.3, random_state=1)\n",
        "X_train, X_valid, Y_train, Y_valid = train_test_split(X_train, Y_train, test_size=0.3, random_state=1)"
      ],
      "execution_count": null,
      "outputs": []
    },
    {
      "cell_type": "code",
      "metadata": {
        "id": "dhDGsG11BLDs",
        "colab_type": "code",
        "colab": {}
      },
      "source": [
        "del X, Y, dataset"
      ],
      "execution_count": null,
      "outputs": []
    },
    {
      "cell_type": "code",
      "metadata": {
        "id": "7DoWdAzMBOIg",
        "colab_type": "code",
        "colab": {}
      },
      "source": [
        "train_fit = [np.asanyarray(X_train['title'].tolist()), np.asanyarray(X_train['text'].tolist())]\n",
        "valid_fit = [np.asanyarray(X_valid['title'].tolist()), np.asanyarray(X_valid['text'].tolist())]\n",
        "test_fit = [np.asanyarray(X_test['title'].tolist()), np.asanyarray(X_test['text'].tolist())]"
      ],
      "execution_count": null,
      "outputs": []
    },
    {
      "cell_type": "markdown",
      "metadata": {
        "id": "IsyhqcanBSLa",
        "colab_type": "text"
      },
      "source": [
        "# Convolucional"
      ]
    },
    {
      "cell_type": "code",
      "metadata": {
        "id": "DhMA-kHkBQFd",
        "colab_type": "code",
        "colab": {}
      },
      "source": [
        "# Optimum params for CNN network\n",
        "params_cnn = {\n",
        "    'lr': 0.23993334664040306,\n",
        "    'momentum': 0.30361299021107185,\n",
        "    'dropout1': 0.10993063833594595,\n",
        "    'dropout2': 0.1586041045258562,\n",
        "    'filters1Title': 8,\n",
        "    'denseTitle': 42,\n",
        "    'filtersContent': 6,\n",
        "    'denseContent': 34\n",
        "}"
      ],
      "execution_count": null,
      "outputs": []
    },
    {
      "cell_type": "code",
      "metadata": {
        "id": "c3o4aFRqBiyd",
        "colab_type": "code",
        "colab": {}
      },
      "source": [
        "import tensorflow as tf\n",
        "import os\n",
        "\n",
        "from numpy.random import seed\n",
        "from tensorflow.random import set_random_seed"
      ],
      "execution_count": null,
      "outputs": []
    },
    {
      "cell_type": "code",
      "metadata": {
        "id": "vfRCoPpiBkto",
        "colab_type": "code",
        "colab": {}
      },
      "source": [
        "seed(50)\n",
        "set_random_seed(50)\n",
        "keras.backend.clear_session()"
      ],
      "execution_count": null,
      "outputs": []
    },
    {
      "cell_type": "code",
      "metadata": {
        "id": "oOP9PJSmB6VF",
        "colab_type": "code",
        "colab": {
          "base_uri": "https://localhost:8080/",
          "height": 765
        },
        "outputId": "88d2f921-569d-4da6-843d-60525b6772a2"
      },
      "source": [
        "# input title\n",
        "title_input = keras.layers.Input(shape=(len_title,), name='title_input')\n",
        "inp = keras.layers.Embedding(output_dim=300, input_dim=50000, weights=[embed_mat], \n",
        "                             trainable=False, name='embed_title')(title_input)\n",
        "\n",
        "x = keras.layers.Conv1D(filters = 5, kernel_size=4, strides=2, activation='relu', name='Conv1Title')(inp)\n",
        "x = keras.layers.MaxPool1D(pool_size = 2, name='Pool1Title')(x)\n",
        "x = keras.layers.Flatten()(x)\n",
        "x = keras.layers.Dense(50, activation='relu', name='Dense1Title', kernel_regularizer='l2')(x)\n",
        "\n",
        "# input_content\n",
        "content_input = keras.layers.Input(shape=(len_content,), name='content_input')\n",
        "inp2 = keras.layers.Embedding(output_dim=300, input_dim=50000, weights=[embed_mat], \n",
        "                              trainable=False, name='embed_content')(content_input)\n",
        "x2 = keras.layers.Conv1D(filters = 40, kernel_size = 16, strides = 2, activation='relu', name='Conv1Content')(inp2)\n",
        "x2 = keras.layers.MaxPool1D(pool_size = 4, name='Pool1Content')(x2)\n",
        "\n",
        "#Added\n",
        "x2 = keras.layers.Conv1D(filters = 80, kernel_size = 16, strides = 4, activation='relu', name='Conv2Content')(inp2)\n",
        "x2 = keras.layers.MaxPool1D(pool_size = 4, name='Pool2Content')(x2)\n",
        "\n",
        "x2 = keras.layers.Flatten()(x2)\n",
        "x2 = keras.layers.Dense(100, activation='relu', kernel_regularizer='l2', name='Dense1Content')(x2)\n",
        "\n",
        "# Merge\n",
        "x = keras.layers.concatenate([x, x2])\n",
        "\n",
        "# Common part\n",
        "x = keras.layers.Dense(50, activation='relu')(x)\n",
        "x = keras.layers.Dropout(0.2)(x)\n",
        "x = keras.layers.Dense(50, activation='relu')(x)\n",
        "x = keras.layers.Dropout(0.2)(x)\n",
        "\n",
        "out = keras.layers.Dense(1, activation='sigmoid')(x)\n",
        "\n",
        "# Build model\n",
        "model = keras.models.Model(inputs=[title_input, content_input], outputs=[out])\n",
        "model.compile(keras.optimizers.RMSprop(), loss='binary_crossentropy', metrics=['acc'])\n",
        "\n",
        "model.summary()"
      ],
      "execution_count": null,
      "outputs": [
        {
          "output_type": "stream",
          "text": [
            "__________________________________________________________________________________________________\n",
            "Layer (type)                    Output Shape         Param #     Connected to                     \n",
            "==================================================================================================\n",
            "title_input (InputLayer)        (None, 17)           0                                            \n",
            "__________________________________________________________________________________________________\n",
            "content_input (InputLayer)      (None, 1799)         0                                            \n",
            "__________________________________________________________________________________________________\n",
            "embed_title (Embedding)         (None, 17, 300)      15000000    title_input[0][0]                \n",
            "__________________________________________________________________________________________________\n",
            "embed_content (Embedding)       (None, 1799, 300)    15000000    content_input[0][0]              \n",
            "__________________________________________________________________________________________________\n",
            "Conv1Title (Conv1D)             (None, 7, 5)         6005        embed_title[0][0]                \n",
            "__________________________________________________________________________________________________\n",
            "Conv2Content (Conv1D)           (None, 446, 80)      384080      embed_content[0][0]              \n",
            "__________________________________________________________________________________________________\n",
            "Pool1Title (MaxPooling1D)       (None, 3, 5)         0           Conv1Title[0][0]                 \n",
            "__________________________________________________________________________________________________\n",
            "Pool2Content (MaxPooling1D)     (None, 111, 80)      0           Conv2Content[0][0]               \n",
            "__________________________________________________________________________________________________\n",
            "flatten (Flatten)               (None, 15)           0           Pool1Title[0][0]                 \n",
            "__________________________________________________________________________________________________\n",
            "flatten_1 (Flatten)             (None, 8880)         0           Pool2Content[0][0]               \n",
            "__________________________________________________________________________________________________\n",
            "Dense1Title (Dense)             (None, 50)           800         flatten[0][0]                    \n",
            "__________________________________________________________________________________________________\n",
            "Dense1Content (Dense)           (None, 100)          888100      flatten_1[0][0]                  \n",
            "__________________________________________________________________________________________________\n",
            "concatenate (Concatenate)       (None, 150)          0           Dense1Title[0][0]                \n",
            "                                                                 Dense1Content[0][0]              \n",
            "__________________________________________________________________________________________________\n",
            "dense (Dense)                   (None, 50)           7550        concatenate[0][0]                \n",
            "__________________________________________________________________________________________________\n",
            "dropout (Dropout)               (None, 50)           0           dense[0][0]                      \n",
            "__________________________________________________________________________________________________\n",
            "dense_1 (Dense)                 (None, 50)           2550        dropout[0][0]                    \n",
            "__________________________________________________________________________________________________\n",
            "dropout_1 (Dropout)             (None, 50)           0           dense_1[0][0]                    \n",
            "__________________________________________________________________________________________________\n",
            "dense_2 (Dense)                 (None, 1)            51          dropout_1[0][0]                  \n",
            "==================================================================================================\n",
            "Total params: 31,289,136\n",
            "Trainable params: 1,289,136\n",
            "Non-trainable params: 30,000,000\n",
            "__________________________________________________________________________________________________\n"
          ],
          "name": "stdout"
        }
      ]
    },
    {
      "cell_type": "code",
      "metadata": {
        "id": "ln0rv8cGBwtQ",
        "colab_type": "code",
        "colab": {}
      },
      "source": [
        "# Optimize TPU\n",
        "\n",
        "# This address identifies the TPU we'll use when configuring TensorFlow.\n",
        "TPU_WORKER = 'grpc://' + os.environ['COLAB_TPU_ADDR']\n",
        "tf.logging.set_verbosity(tf.logging.INFO)\n",
        "\n",
        "tpu_model = tf.contrib.tpu.keras_to_tpu_model(\n",
        "    model,\n",
        "    strategy=tf.contrib.tpu.TPUDistributionStrategy(\n",
        "        tf.contrib.cluster_resolver.TPUClusterResolver(TPU_WORKER)))"
      ],
      "execution_count": null,
      "outputs": []
    },
    {
      "cell_type": "code",
      "metadata": {
        "id": "ZZDfJpRfB8ly",
        "colab_type": "code",
        "colab": {}
      },
      "source": [
        "model = tpu_model"
      ],
      "execution_count": null,
      "outputs": []
    },
    {
      "cell_type": "code",
      "metadata": {
        "id": "IOwI1ndjCGOL",
        "colab_type": "code",
        "colab": {
          "base_uri": "https://localhost:8080/",
          "height": 204
        },
        "outputId": "8807145b-90e0-48f7-b265-cd2bae7ded94"
      },
      "source": [
        "hist = model.fit(x=train_fit, y=np.asarray(Y_train.tolist()), batch_size=128, epochs=5, \n",
        "                 callbacks = [keras.callbacks.EarlyStopping(monitor='val_loss', patience=3, min_delta = 0.1)], \n",
        "                 validation_data=(valid_fit, np.array(Y_valid.tolist())))"
      ],
      "execution_count": null,
      "outputs": [
        {
          "output_type": "stream",
          "text": [
            "Train on 10469 samples, validate on 4488 samples\n",
            "Epoch 1/5\n",
            "10469/10469 [==============================] - 28s 3ms/sample - loss: 0.5778 - acc: 0.9019 - val_loss: 2.0191 - val_acc: 0.5702\n",
            "Epoch 2/5\n",
            "10469/10469 [==============================] - 3s 262us/sample - loss: 0.1622 - acc: 0.9827 - val_loss: 0.1190 - val_acc: 0.9893\n",
            "Epoch 3/5\n",
            "10469/10469 [==============================] - 3s 262us/sample - loss: 0.0713 - acc: 0.9919 - val_loss: 0.0473 - val_acc: 0.9933\n",
            "Epoch 4/5\n",
            "10469/10469 [==============================] - 3s 257us/sample - loss: 0.0627 - acc: 0.9907 - val_loss: 0.0452 - val_acc: 0.9969\n",
            "Epoch 5/5\n",
            "10469/10469 [==============================] - 3s 260us/sample - loss: 0.0777 - acc: 0.9946 - val_loss: 0.2136 - val_acc: 0.9505\n"
          ],
          "name": "stdout"
        }
      ]
    },
    {
      "cell_type": "code",
      "metadata": {
        "id": "HhS91wvJJAmH",
        "colab_type": "code",
        "colab": {
          "base_uri": "https://localhost:8080/",
          "height": 364
        },
        "outputId": "29be40f8-e59b-491b-dbed-fcc99d1b6c59"
      },
      "source": [
        "plt.plot(hist.history['val_acc'], label='val_acc')\n",
        "plt.plot(hist.history['acc'], label='train_acc')\n",
        "plt.legend()"
      ],
      "execution_count": null,
      "outputs": [
        {
          "output_type": "execute_result",
          "data": {
            "text/plain": [
              "<matplotlib.legend.Legend at 0x7f9f3cc82da0>"
            ]
          },
          "metadata": {
            "tags": []
          },
          "execution_count": 201
        },
        {
          "output_type": "display_data",
          "data": {
            "image/png": "[encoded data removed]",
            "text/plain": [
              "<Figure size 576x396 with 1 Axes>"
            ]
          },
          "metadata": {
            "tags": []
          }
        }
      ]
    },
    {
      "cell_type": "code",
      "metadata": {
        "id": "wuG8T4itc2A2",
        "colab_type": "code",
        "colab": {
          "base_uri": "https://localhost:8080/",
          "height": 364
        },
        "outputId": "e68f5086-42e2-4050-cff5-1c8c86883574"
      },
      "source": [
        "plt.plot(hist.history['val_loss'], label='val_loss')\n",
        "plt.plot(hist.history['loss'], label='train_loss')\n",
        "plt.legend()"
      ],
      "execution_count": null,
      "outputs": [
        {
          "output_type": "execute_result",
          "data": {
            "text/plain": [
              "<matplotlib.legend.Legend at 0x7f9f3cbfb6a0>"
            ]
          },
          "metadata": {
            "tags": []
          },
          "execution_count": 202
        },
        {
          "output_type": "display_data",
          "data": {
            "image/png": "[encoded data removed]",
            "text/plain": [
              "<Figure size 576x396 with 1 Axes>"
            ]
          },
          "metadata": {
            "tags": []
          }
        }
      ]
    },
    {
      "cell_type": "code",
      "metadata": {
        "id": "TtehOrBlPfVg",
        "colab_type": "code",
        "colab": {
          "base_uri": "https://localhost:8080/",
          "height": 102
        },
        "outputId": "0fffb1a3-1c37-45dd-a782-17ab5c83a7e0"
      },
      "source": [
        "model = model.sync_to_cpu()\n",
        "test_pred = model.predict(test_fit)\n",
        "test_acc = accuracy_score(np.array(Y_test.tolist()), test_pred.round())\n",
        "print(\"Test set acc:\", test_acc)\n",
        "print(\"Validation set acc:\", hist.history['val_acc'][-1])\n",
        "print('recall:', recall_score(Y_test.to_list(), test_pred.round()))\n",
        "print('precision:', precision_score(Y_test.to_list(), test_pred.round()))\n",
        "print('f1:', f1_score(Y_test.to_list(), test_pred.round()))"
      ],
      "execution_count": null,
      "outputs": [
        {
          "output_type": "stream",
          "text": [
            "Test set acc: 0.9499298081422555\n",
            "Validation set acc: 0.95053476\n",
            "recall: 0.9015337423312884\n",
            "precision: 1.0\n",
            "f1: 0.9482174544281335\n"
          ],
          "name": "stdout"
        }
      ]
    },
    {
      "cell_type": "code",
      "metadata": {
        "id": "i-e2JDUrUVaT",
        "colab_type": "code",
        "colab": {
          "base_uri": "https://localhost:8080/",
          "height": 364
        },
        "outputId": "f869fd92-d58e-4b96-9887-deb2bfd37f0e"
      },
      "source": [
        "matrix = confusion_matrix(np.array(Y_test.tolist()), test_pred.round())\n",
        "df_cm = pd.DataFrame(matrix, columns=['fake', 'truth'], index=['fake', 'truth'])\n",
        "seaborn.heatmap(df_cm, annot=True, fmt='g')"
      ],
      "execution_count": null,
      "outputs": [
        {
          "output_type": "execute_result",
          "data": {
            "text/plain": [
              "<matplotlib.axes._subplots.AxesSubplot at 0x7f9f3cc061d0>"
            ]
          },
          "metadata": {
            "tags": []
          },
          "execution_count": 204
        },
        {
          "output_type": "display_data",
          "data": {
            "image/png": "[encoded data removed]",
            "text/plain": [
              "<Figure size 576x396 with 2 Axes>"
            ]
          },
          "metadata": {
            "tags": []
          }
        }
      ]
    },
    {
      "cell_type": "code",
      "metadata": {
        "id": "tw7QBqmDUiS9",
        "colab_type": "code",
        "colab": {}
      },
      "source": [
        "from sklearn import metrics"
      ],
      "execution_count": null,
      "outputs": []
    },
    {
      "cell_type": "code",
      "metadata": {
        "id": "6iUNN8Q1UlH3",
        "colab_type": "code",
        "colab": {
          "base_uri": "https://localhost:8080/",
          "height": 420
        },
        "outputId": "cdbc2e58-0398-48f5-af26-b5b18375650e"
      },
      "source": [
        "fpr, tpr, thresholds = metrics.roc_curve(Y_test, test_pred)\n",
        "auc = metrics.roc_auc_score(Y_test, test_pred)\n",
        "\n",
        "fig,ax = plt.subplots()\n",
        "ax.set_title('AUC={}'.format(auc))\n",
        "fig.suptitle('Roc curve')\n",
        "\n",
        "print(\"CNN\")\n",
        "ax.plot(fpr,tpr)"
      ],
      "execution_count": null,
      "outputs": [
        {
          "output_type": "stream",
          "text": [
            "CNN\n"
          ],
          "name": "stdout"
        },
        {
          "output_type": "execute_result",
          "data": {
            "text/plain": [
              "[<matplotlib.lines.Line2D at 0x7f9f3c991438>]"
            ]
          },
          "metadata": {
            "tags": []
          },
          "execution_count": 206
        },
        {
          "output_type": "display_data",
          "data": {
            "image/png": "[encoded data removed]",
            "text/plain": [
              "<Figure size 576x396 with 1 Axes>"
            ]
          },
          "metadata": {
            "tags": []
          }
        }
      ]
    },
    {
      "cell_type": "code",
      "metadata": {
        "id": "YkuT4j--efvM",
        "colab_type": "code",
        "colab": {}
      },
      "source": [
        "#CONV_PATH = 'drive/My Drive/Colab Notebooks/fake news/weights/conv.h5'"
      ],
      "execution_count": null,
      "outputs": []
    },
    {
      "cell_type": "code",
      "metadata": {
        "id": "-EZBy8FUek7v",
        "colab_type": "code",
        "colab": {}
      },
      "source": [
        "#model.save(CONV_PATH)"
      ],
      "execution_count": null,
      "outputs": []
    }
  ]
}